{
 "cells": [
  {
   "cell_type": "markdown",
   "metadata": {},
   "source": [
    "## We should make sure that one kernel only is running \n",
    "## i.e. one notebook is running"
   ]
  },
  {
   "cell_type": "code",
   "execution_count": 5,
   "metadata": {},
   "outputs": [],
   "source": [
    "import cv2\n",
    "\n"
   ]
  },
  {
   "cell_type": "code",
   "execution_count": 11,
   "metadata": {},
   "outputs": [],
   "source": [
    "cap = cv2.VideoCapture(0)\n",
    "    \n",
    "width = int(cap.get(cv2.CAP_PROP_FRAME_WIDTH))\n",
    "height = int(cap.get(cv2.CAP_PROP_FRAME_HEIGHT))\n",
    "\n",
    "# Windows ----> *('DIVX')\n",
    "# Linux ------> *(XVID)\n",
    "# 20 ----> we choose number between 20 to 30 and this number is the number of frames / sec\n",
    "writer = cv2.VideoWriter('myvid.mp4',cv2.VideoWriter_fourcc(*'XVID'),20,(width,height))\n",
    "while True:\n",
    "    \n",
    "    ret,frame = cap.read()\n",
    "    \n",
    "    # OPERATIONS (DRAWING)\n",
    "    writer.write(frame)\n",
    "    \n",
    " #   gray = cv2.cvtColor(frame, cv2.COLOR_BGR2GRAY)\n",
    "    \n",
    "    cv2.imshow('frame',frame)\n",
    "    \n",
    "    \n",
    "    if cv2.waitKey(1) & 0xFF == ord('q'):\n",
    "        break\n",
    "        \n",
    "        \n",
    "cap.release()\n",
    "writer.release()\n",
    "cv2.destroyAllWindows()"
   ]
  },
  {
   "cell_type": "markdown",
   "metadata": {},
   "source": [
    "## USING OPENCV WITH EXISTING VIDEOS"
   ]
  },
  {
   "cell_type": "code",
   "execution_count": 20,
   "metadata": {},
   "outputs": [],
   "source": [
    "# TO get the video with good speed (readable to human) we use time library and sleep function\n",
    "import time\n",
    "\n",
    "exist_cap = cv2.VideoCapture('myvid.mp4')\n",
    "    \n",
    "if exist_cap.isOpened() == False:\n",
    "    print('ERROR FILE NOT FOUND OR WRONG CODEC USED')\n",
    "while exist_cap.isOpened():\n",
    "    \n",
    "    ret,frame = exist_cap.read()\n",
    "    if ret == True:\n",
    "        # if we wnt to get the video to watch it we use sleep(1/frames per second that we made our video with)\n",
    "        # if we don't want to see it and want the computer makes some processing on it so we will not put the sleep function\n",
    "        time.sleep(1/20)\n",
    "        cv2.imshow('frame',frame)\n",
    "    \n",
    "    \n",
    "        if cv2.waitKey(1) & 0xFF == ord('q'):\n",
    "            break\n",
    "    else: \n",
    "        break\n",
    "        \n",
    "exist_cap.release()\n",
    "cv2.destroyAllWindows()"
   ]
  },
  {
   "cell_type": "markdown",
   "metadata": {},
   "source": [
    "## DRAWING ON VIDEO"
   ]
  },
  {
   "cell_type": "code",
   "execution_count": 21,
   "metadata": {},
   "outputs": [],
   "source": [
    "cap = cv2.VideoCapture(0)\n",
    "    \n",
    "width = int(cap.get(cv2.CAP_PROP_FRAME_WIDTH))\n",
    "height = int(cap.get(cv2.CAP_PROP_FRAME_HEIGHT))\n",
    "\n",
    "#TOP LEFT CORNER\n",
    "x = width // 2 # // to return integer\n",
    "y = height // 2 \n",
    "\n",
    "# width and height of RECTANGLE\n",
    "w = width // 4\n",
    "h = height // 4\n",
    "\n",
    "# Bottom Right = x+w ,y+h\n",
    "while True:\n",
    "    \n",
    "    ret,frame = cap.read()\n",
    "    \n",
    "    cv2.rectangle(frame,(x,y),(x+w,y+h),color = (0,0,255),thickness = 4)\n",
    "    \n",
    "    cv2.imshow('frame',frame)\n",
    "    \n",
    "    if cv2.waitKey(1)&0xFF == ord('q'):\n",
    "        break\n",
    "    \n",
    "cap.release()\n",
    "cv2.destroyAllWindows()\n",
    "    "
   ]
  },
  {
   "cell_type": "markdown",
   "metadata": {},
   "source": [
    "# Interactive drawing on videos"
   ]
  },
  {
   "cell_type": "code",
   "execution_count": 23,
   "metadata": {},
   "outputs": [],
   "source": [
    "\n",
    "    \n",
    "# CALLBACK FUNCTION RECTANGLE\n",
    "def draw_rectangle(event,x,y,flags,param):\n",
    "    \n",
    "    global pt1,pt2,topleft_clicked,botRight_clicked\n",
    "    if event == cv2.EVENT_LBUTTONDOWN:\n",
    "        \n",
    "        # RESET THE RECTANGLE ( CHECK IF THERE IS ALREADY A  RECTANGLE IS DRAWN )\n",
    "        if topleft_clicked == True and botRight_clicked == True:\n",
    "            pt1 = (0,0)\n",
    "            pt2 = (0,0)\n",
    "            topleft_clicked =False\n",
    "            botRight_clicked = False\n",
    "            \n",
    "        if topleft_clicked ==False:\n",
    "            pt1 = (x,y)\n",
    "            topleft_clicked = True\n",
    "            \n",
    "        elif botRight_clicked == False:\n",
    "            pt2 = (x,y)\n",
    "            botRight_clicked = True\n",
    "    \n",
    "    \n",
    "\n",
    "# GLOBAL VARIABLES\n",
    "pt1 = (0,0)  # TOP LEFT CORNER\n",
    "pt2 = (0,0)  # BOTTOM RIGHT CORNER\n",
    "topleft_clicked = False\n",
    "botRight_clicked = False\n",
    "\n",
    "# CONNECT TO THE CALLBACK\n",
    "cap = cv2.VideoCapture(0)\n",
    "\n",
    "cv2.namedWindow('Test')\n",
    "cv2.setMouseCallback('Test',draw_rectangle)\n",
    "while True:\n",
    "    \n",
    "    ret,frame = cap.read()\n",
    "    \n",
    "    # DRAWING ON THE FRAME BASED OFF THE GLOBAL VARIABLES\n",
    "    if topleft_clicked: \n",
    "        cv2.circle(frame,center=pt1,radius = 5,color = (0,0,255),thickness = -1)\n",
    "        \n",
    "    if topleft_clicked and botRight_clicked:\n",
    "        cv2.rectangle(frame , pt1,pt2,(0,0,255),3)\n",
    "    \n",
    "    cv2.imshow('Test',frame)\n",
    "    \n",
    "    if cv2.waitKey(1)&0xFF == ord('q'):\n",
    "        break\n",
    "    \n",
    "cap.release()\n",
    "cv2.destroyAllWindows()"
   ]
  },
  {
   "cell_type": "code",
   "execution_count": null,
   "metadata": {},
   "outputs": [],
   "source": []
  }
 ],
 "metadata": {
  "kernelspec": {
   "display_name": "Python 3",
   "language": "python",
   "name": "python3"
  },
  "language_info": {
   "codemirror_mode": {
    "name": "ipython",
    "version": 3
   },
   "file_extension": ".py",
   "mimetype": "text/x-python",
   "name": "python",
   "nbconvert_exporter": "python",
   "pygments_lexer": "ipython3",
   "version": "3.6.6"
  }
 },
 "nbformat": 4,
 "nbformat_minor": 4
}
